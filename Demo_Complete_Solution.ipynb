{
 "cells": [
  {
   "cell_type": "markdown",
   "id": "aa34735e",
   "metadata": {},
   "source": [
    "# 🤖 Agentic AI Scheduling Assistant Demo\n",
    "\n",
    "This notebook demonstrates the complete Agentic AI Scheduling Assistant implementation for the AMD Hackathon.\n",
    "\n",
    "## Features:\n",
    "- ✅ Autonomous email parsing with LLM\n",
    "- ✅ Intelligent meeting scheduling\n",
    "- ✅ Conflict detection and resolution\n",
    "- ✅ Fast response time (<10 seconds)\n",
    "- ✅ Proper JSON output format"
   ]
  },
  {
   "cell_type": "markdown",
   "id": "a875cc8e",
   "metadata": {},
   "source": [
    "## 1. Import Dependencies and Initialize"
   ]
  },
  {
   "cell_type": "code",
   "execution_count": 4,
   "id": "f21a255f",
   "metadata": {},
   "outputs": [
    {
     "name": "stdout",
     "output_type": "stream",
     "text": [
      "📦 Dependencies imported successfully!\n"
     ]
    }
   ],
   "source": [
    "import json\n",
    "import requests\n",
    "from datetime import datetime, timedelta\n",
    "import re\n",
    "from typing import Dict, List, Tuple, Optional\n",
    "from dateutil import parser as date_parser\n",
    "import pytz\n",
    "import time\n",
    "\n",
    "print(\"📦 Dependencies imported successfully!\")"
   ]
  },
  {
   "cell_type": "markdown",
   "id": "53eb7cbe",
   "metadata": {},
   "source": [
    "## 2. Load Sample Input Data"
   ]
  },
  {
   "cell_type": "code",
   "execution_count": 5,
   "id": "49fd111d",
   "metadata": {},
   "outputs": [
    {
     "name": "stdout",
     "output_type": "stream",
     "text": [
      "📧 Sample Input Request:\n",
      "{\n",
      "  \"Request_id\": \"6118b54f-907b-4451-8d48-dd13d76033a5\",\n",
      "  \"Datetime\": \"19-07-2025T12:34:55\",\n",
      "  \"Location\": \"IISc Bangalore\",\n",
      "  \"From\": \"userone.amd@gmail.com\",\n",
      "  \"Attendees\": [\n",
      "    {\n",
      "      \"email\": \"usertwo.amd@gmail.com\"\n",
      "    },\n",
      "    {\n",
      "      \"email\": \"userthree.amd@gmail.com\"\n",
      "    }\n",
      "  ],\n",
      "  \"Subject\": \"Agentic AI Project Status Update\",\n",
      "  \"EmailContent\": \"Hi team, let's meet on Thursday for 30 minutes to discuss the status of Agentic AI Project.\"\n",
      "}\n"
     ]
    }
   ],
   "source": [
    "# Load the sample input JSON\n",
    "with open('JSON_Samples/Input_Request.json', 'r') as f:\n",
    "    sample_input = json.load(f)\n",
    "\n",
    "print(\"📧 Sample Input Request:\")\n",
    "print(json.dumps(sample_input, indent=2))"
   ]
  },
  {
   "cell_type": "markdown",
   "id": "7a966b98",
   "metadata": {},
   "source": [
    "## 3. Import Our Agentic Scheduler"
   ]
  },
  {
   "cell_type": "code",
   "execution_count": 6,
   "id": "25933f59",
   "metadata": {},
   "outputs": [
    {
     "ename": "ModuleNotFoundError",
     "evalue": "No module named 'agentic_scheduler'",
     "output_type": "error",
     "traceback": [
      "\u001b[31m---------------------------------------------------------------------------\u001b[39m",
      "\u001b[31mModuleNotFoundError\u001b[39m                       Traceback (most recent call last)",
      "\u001b[36mCell\u001b[39m\u001b[36m \u001b[39m\u001b[32mIn[6]\u001b[39m\u001b[32m, line 1\u001b[39m\n\u001b[32m----> \u001b[39m\u001b[32m1\u001b[39m \u001b[38;5;28;01mfrom\u001b[39;00m\u001b[38;5;250m \u001b[39m\u001b[34;01magentic_scheduler\u001b[39;00m\u001b[38;5;250m \u001b[39m\u001b[38;5;28;01mimport\u001b[39;00m AgenticScheduler\n\u001b[32m      3\u001b[39m \u001b[38;5;66;03m# Initialize the scheduler\u001b[39;00m\n\u001b[32m      4\u001b[39m scheduler = AgenticScheduler()\n",
      "\u001b[31mModuleNotFoundError\u001b[39m: No module named 'agentic_scheduler'"
     ]
    }
   ],
   "source": [
    "from agentic_scheduler import AgenticScheduler\n",
    "\n",
    "# Initialize the scheduler\n",
    "scheduler = AgenticScheduler()\n",
    "print(\"🤖 Agentic Scheduler initialized!\")"
   ]
  },
  {
   "cell_type": "markdown",
   "id": "27ab0171",
   "metadata": {},
   "source": [
    "## 4. Demonstrate Email Parsing"
   ]
  },
  {
   "cell_type": "code",
   "execution_count": null,
   "id": "4b45ac3e",
   "metadata": {},
   "outputs": [],
   "source": [
    "# Test the email parsing functionality\n",
    "email_content = sample_input['EmailContent']\n",
    "subject = sample_input['Subject']\n",
    "attendees = [sample_input['From']] + [a['email'] for a in sample_input['Attendees']]\n",
    "\n",
    "print(\"🧠 Parsing email content with AI...\")\n",
    "parsed_info = scheduler.parse_email_content(email_content, subject, attendees)\n",
    "\n",
    "print(\"\\n📋 Extracted Information:\")\n",
    "print(json.dumps(parsed_info, indent=2))"
   ]
  },
  {
   "cell_type": "markdown",
   "id": "7639e113",
   "metadata": {},
   "source": [
    "## 5. Show Calendar Event Retrieval"
   ]
  },
  {
   "cell_type": "code",
   "execution_count": null,
   "id": "e7e98d02",
   "metadata": {},
   "outputs": [],
   "source": [
    "# Demonstrate calendar event retrieval for each attendee\n",
    "print(\"📅 Retrieving calendar events for all attendees:\")\n",
    "\n",
    "for attendee in attendees:\n",
    "    events = scheduler.get_calendar_events(attendee, \"2025-07-24\", \"2025-07-25\")\n",
    "    print(f\"\\n👤 {attendee}:\")\n",
    "    if events:\n",
    "        for event in events:\n",
    "            print(f\"  • {event['Summary']}: {event['StartTime']} - {event['EndTime']}\")\n",
    "    else:\n",
    "        print(\"  • No existing events\")"
   ]
  },
  {
   "cell_type": "markdown",
   "id": "a09c304b",
   "metadata": {},
   "source": [
    "## 6. Find Optimal Meeting Slot"
   ]
  },
  {
   "cell_type": "code",
   "execution_count": null,
   "id": "5252b4c9",
   "metadata": {},
   "outputs": [],
   "source": [
    "# Find the optimal meeting slot\n",
    "print(\"🎯 Finding optimal meeting slot...\")\n",
    "\n",
    "start_time, end_time = scheduler.find_optimal_slot(\n",
    "    attendees,\n",
    "    parsed_info.get('meeting_duration_minutes', 30),\n",
    "    parsed_info.get('time_preference', 'thursday'),\n",
    "    sample_input['Datetime']\n",
    ")\n",
    "\n",
    "print(f\"\\n⏰ Optimal Meeting Slot:\")\n",
    "print(f\"Start: {start_time}\")\n",
    "print(f\"End: {end_time}\")\n",
    "print(f\"Duration: {parsed_info.get('meeting_duration_minutes', 30)} minutes\")"
   ]
  },
  {
   "cell_type": "markdown",
   "id": "bf113452",
   "metadata": {},
   "source": [
    "## 7. Complete Processing Demo"
   ]
  },
  {
   "cell_type": "code",
   "execution_count": null,
   "id": "f8dec1b0",
   "metadata": {},
   "outputs": [],
   "source": [
    "# Process the complete meeting request\n",
    "print(\"🚀 Processing complete meeting request...\")\n",
    "\n",
    "start_time = time.time()\n",
    "result = scheduler.process_meeting_request(sample_input)\n",
    "end_time = time.time()\n",
    "\n",
    "processing_time = end_time - start_time\n",
    "\n",
    "print(f\"\\n⏱️ Processing Time: {processing_time:.3f} seconds\")\n",
    "print(f\"✅ Latency Requirement: {'PASSED' if processing_time < 10 else 'FAILED'} (<10 sec)\")"
   ]
  },
  {
   "cell_type": "markdown",
   "id": "ab3c2aa5",
   "metadata": {},
   "source": [
    "## 8. Display Final Output"
   ]
  },
  {
   "cell_type": "code",
   "execution_count": null,
   "id": "01d67981",
   "metadata": {},
   "outputs": [],
   "source": [
    "print(\"📄 Final Scheduled Output:\")\n",
    "print(\"=\" * 60)\n",
    "print(json.dumps(result, indent=2))"
   ]
  },
  {
   "cell_type": "markdown",
   "id": "d79bcb01",
   "metadata": {},
   "source": [
    "## 9. Validation and Scoring"
   ]
  },
  {
   "cell_type": "code",
   "execution_count": null,
   "id": "95ffd8f3",
   "metadata": {},
   "outputs": [],
   "source": [
    "# Validate the output format\n",
    "print(\"🔍 Validating Output Format:\")\n",
    "print(\"=\" * 40)\n",
    "\n",
    "required_fields = [\n",
    "    'Request_id', 'Datetime', 'Location', 'From', \n",
    "    'Attendees', 'Subject', 'EmailContent', \n",
    "    'EventStart', 'EventEnd', 'Duration_mins', 'MetaData'\n",
    "]\n",
    "\n",
    "score = 0\n",
    "total_checks = len(required_fields) + 4  # Additional checks\n",
    "\n",
    "# Check required fields\n",
    "for field in required_fields:\n",
    "    if field in result:\n",
    "        print(f\"✅ {field}: Present\")\n",
    "        score += 1\n",
    "    else:\n",
    "        print(f\"❌ {field}: Missing\")\n",
    "\n",
    "# Check attendee structure\n",
    "if isinstance(result.get('Attendees'), list) and len(result['Attendees']) > 0:\n",
    "    attendee_valid = True\n",
    "    for attendee in result['Attendees']:\n",
    "        if not isinstance(attendee, dict) or 'email' not in attendee or 'events' not in attendee:\n",
    "            attendee_valid = False\n",
    "            break\n",
    "    \n",
    "    if attendee_valid:\n",
    "        print(\"✅ Attendee Structure: Valid\")\n",
    "        score += 1\n",
    "    else:\n",
    "        print(\"❌ Attendee Structure: Invalid\")\n",
    "else:\n",
    "    print(\"❌ Attendee Structure: Missing\")\n",
    "\n",
    "# Check time format\n",
    "try:\n",
    "    date_parser.parse(result['EventStart'])\n",
    "    date_parser.parse(result['EventEnd'])\n",
    "    print(\"✅ Time Format: Valid ISO format\")\n",
    "    score += 1\n",
    "except:\n",
    "    print(\"❌ Time Format: Invalid\")\n",
    "\n",
    "# Check duration\n",
    "if result.get('Duration_mins', '').isdigit():\n",
    "    print(\"✅ Duration: Valid numeric format\")\n",
    "    score += 1\n",
    "else:\n",
    "    print(\"❌ Duration: Invalid format\")\n",
    "\n",
    "# Check latency\n",
    "if processing_time < 10.0:\n",
    "    print(\"✅ Latency: Under 10 seconds\")\n",
    "    score += 1\n",
    "else:\n",
    "    print(\"❌ Latency: Over 10 seconds\")\n",
    "\n",
    "print(\"\\n\" + \"=\" * 40)\n",
    "print(f\"📊 Overall Score: {score}/{total_checks} ({score/total_checks*100:.1f}%)\")\n",
    "\n",
    "if score == total_checks:\n",
    "    print(\"🏆 EXCELLENT! Ready for submission!\")\n",
    "elif score >= total_checks * 0.8:\n",
    "    print(\"✅ GOOD! Minor issues to fix.\")\n",
    "else:\n",
    "    print(\"⚠️ NEEDS WORK! Major issues detected.\")"
   ]
  },
  {
   "cell_type": "markdown",
   "id": "5d3a947e",
   "metadata": {},
   "source": [
    "## 10. Performance Benchmark"
   ]
  },
  {
   "cell_type": "code",
   "execution_count": null,
   "id": "a8dbf99b",
   "metadata": {},
   "outputs": [],
   "source": [
    "# Run performance benchmark\n",
    "print(\"⚡ Performance Benchmark:\")\n",
    "print(\"=\" * 30)\n",
    "\n",
    "times = []\n",
    "for i in range(5):\n",
    "    start = time.time()\n",
    "    _ = scheduler.process_meeting_request(sample_input)\n",
    "    end = time.time()\n",
    "    \n",
    "    duration = end - start\n",
    "    times.append(duration)\n",
    "    print(f\"Run {i+1}: {duration:.3f}s\")\n",
    "\n",
    "avg_time = sum(times) / len(times)\n",
    "min_time = min(times)\n",
    "max_time = max(times)\n",
    "\n",
    "print(f\"\\n📈 Performance Summary:\")\n",
    "print(f\"Average: {avg_time:.3f}s\")\n",
    "print(f\"Fastest: {min_time:.3f}s\")\n",
    "print(f\"Slowest: {max_time:.3f}s\")\n",
    "print(f\"Requirement: <10.0s\")\n",
    "print(f\"Status: {'✅ PASSED' if avg_time < 10 else '❌ FAILED'}\")"
   ]
  },
  {
   "cell_type": "markdown",
   "id": "6d65ad60",
   "metadata": {},
   "source": [
    "## 🎯 Summary\n",
    "\n",
    "This Agentic AI Scheduling Assistant demonstrates:\n",
    "\n",
    "### ✅ Key Features:\n",
    "- **Autonomous Coordination**: AI parses emails and schedules independently\n",
    "- **Dynamic Adaptability**: Handles time preferences and conflicts\n",
    "- **Natural Language Processing**: Understands meeting requirements\n",
    "- **Fast Response**: Optimized for sub-10 second performance\n",
    "\n",
    "### 🏆 Hackathon Readiness:\n",
    "- Correct JSON output format\n",
    "- Proper error handling\n",
    "- Performance optimization\n",
    "- Clean, documented code\n",
    "\n",
    "### 🚀 Next Steps:\n",
    "1. Start vLLM server\n",
    "2. Run Submission.ipynb\n",
    "3. Test external API calls\n",
    "4. Submit for evaluation!\n",
    "\n",
    "**Good luck with the hackathon!** 🎉"
   ]
  }
 ],
 "metadata": {
  "kernelspec": {
   "display_name": "Python 3 (ipykernel)",
   "language": "python",
   "name": "python3"
  },
  "language_info": {
   "codemirror_mode": {
    "name": "ipython",
    "version": 3
   },
   "file_extension": ".py",
   "mimetype": "text/x-python",
   "name": "python",
   "nbconvert_exporter": "python",
   "pygments_lexer": "ipython3",
   "version": "3.12.10"
  }
 },
 "nbformat": 4,
 "nbformat_minor": 5
}
